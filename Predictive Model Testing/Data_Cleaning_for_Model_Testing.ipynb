{
 "cells": [
  {
   "cell_type": "code",
   "execution_count": 1,
   "id": "41ff295c-c0f0-4578-8126-312b67392dc5",
   "metadata": {},
   "outputs": [],
   "source": [
    "import numpy as np\n",
    "import pandas as pd\n",
    "import re"
   ]
  },
  {
   "cell_type": "code",
   "execution_count": 2,
   "id": "da2104f5-abe2-42ba-96b6-67b19f4e3df6",
   "metadata": {},
   "outputs": [],
   "source": [
    "df = pd.read_excel('99acres_Bangalore_scraped_data/99acres_scraped_data.xlsx')"
   ]
  },
  {
   "cell_type": "code",
   "execution_count": 3,
   "id": "31ac7d4e-8009-4d4c-bc37-108307168597",
   "metadata": {},
   "outputs": [
    {
     "data": {
      "text/html": [
       "<div>\n",
       "<style scoped>\n",
       "    .dataframe tbody tr th:only-of-type {\n",
       "        vertical-align: middle;\n",
       "    }\n",
       "\n",
       "    .dataframe tbody tr th {\n",
       "        vertical-align: top;\n",
       "    }\n",
       "\n",
       "    .dataframe thead th {\n",
       "        text-align: right;\n",
       "    }\n",
       "</style>\n",
       "<table border=\"1\" class=\"dataframe\">\n",
       "  <thead>\n",
       "    <tr style=\"text-align: right;\">\n",
       "      <th></th>\n",
       "      <th>Region</th>\n",
       "      <th>Link</th>\n",
       "      <th>Bedroom</th>\n",
       "      <th>Bathroom</th>\n",
       "      <th>Balcony</th>\n",
       "      <th>Additional_rooms</th>\n",
       "      <th>Area</th>\n",
       "      <th>Facing</th>\n",
       "      <th>Furnishing</th>\n",
       "      <th>Rating</th>\n",
       "      <th>...</th>\n",
       "      <th>Posted_By_and_On</th>\n",
       "      <th>Age</th>\n",
       "      <th>Pet_friendly</th>\n",
       "      <th>Floor</th>\n",
       "      <th>Available_from</th>\n",
       "      <th>Available_for</th>\n",
       "      <th>Type</th>\n",
       "      <th>Advance</th>\n",
       "      <th>Location</th>\n",
       "      <th>Rent</th>\n",
       "    </tr>\n",
       "  </thead>\n",
       "  <tbody>\n",
       "    <tr>\n",
       "      <th>0</th>\n",
       "      <td>Bangalore Central</td>\n",
       "      <td>https://www.99acres.com/2-bhk-bedroom-apartmen...</td>\n",
       "      <td>2 Bedrooms</td>\n",
       "      <td>2 Bathrooms</td>\n",
       "      <td>1 Balcony</td>\n",
       "      <td>NaN</td>\n",
       "      <td>1400.0</td>\n",
       "      <td>East</td>\n",
       "      <td>Semifurnished</td>\n",
       "      <td>4.3</td>\n",
       "      <td>...</td>\n",
       "      <td>Dealer on Feb 22, 2025</td>\n",
       "      <td>0 to 1 Year Old</td>\n",
       "      <td>NaN</td>\n",
       "      <td>3rd   of 5 Floors</td>\n",
       "      <td>Immediate</td>\n",
       "      <td>All</td>\n",
       "      <td>Flat/Apartment for Rent</td>\n",
       "      <td>Rate per sq.ft. ₹ 0 per sq.ft. Brokerage₹ 54,0...</td>\n",
       "      <td>in Wellington Park, Richmond Town, Bangalore</td>\n",
       "      <td>54,000</td>\n",
       "    </tr>\n",
       "    <tr>\n",
       "      <th>1</th>\n",
       "      <td>Bangalore Central</td>\n",
       "      <td>https://www.99acres.com/2-bhk-bedroom-independ...</td>\n",
       "      <td>2 Bedrooms</td>\n",
       "      <td>2 Bathrooms</td>\n",
       "      <td>1 Balcony</td>\n",
       "      <td>Pooja Room</td>\n",
       "      <td>1300.0</td>\n",
       "      <td>East</td>\n",
       "      <td>Semifurnished</td>\n",
       "      <td>4.3</td>\n",
       "      <td>...</td>\n",
       "      <td>Owner on Feb 21, 2025</td>\n",
       "      <td>10+ Year Old</td>\n",
       "      <td>NaN</td>\n",
       "      <td>2nd   of 3 Floors</td>\n",
       "      <td>Immediate</td>\n",
       "      <td>Family Only</td>\n",
       "      <td>Independent/Builder Floor for Rent</td>\n",
       "      <td>Rate per sq.ft. ₹ 0 per sq.ft. Deposit10 month...</td>\n",
       "      <td>in Wilson Garden, Bangalore</td>\n",
       "      <td>28,000</td>\n",
       "    </tr>\n",
       "    <tr>\n",
       "      <th>2</th>\n",
       "      <td>Bangalore Central</td>\n",
       "      <td>https://www.99acres.com/2-bhk-bedroom-independ...</td>\n",
       "      <td>2 Bedrooms</td>\n",
       "      <td>2 Bathrooms</td>\n",
       "      <td>1 Balcony</td>\n",
       "      <td>Others</td>\n",
       "      <td>900.0</td>\n",
       "      <td>East</td>\n",
       "      <td>Semifurnished</td>\n",
       "      <td>4.2</td>\n",
       "      <td>...</td>\n",
       "      <td>Dealer on Feb 20, 2025</td>\n",
       "      <td>1 to 5 Year Old</td>\n",
       "      <td>NaN</td>\n",
       "      <td>3rd   of 4 Floors</td>\n",
       "      <td>Immediate</td>\n",
       "      <td>Family Only</td>\n",
       "      <td>Independent/Builder Floor for Rent</td>\n",
       "      <td>NaN</td>\n",
       "      <td>in Victoria Layout, Ashok Nagar</td>\n",
       "      <td>25 Lac</td>\n",
       "    </tr>\n",
       "    <tr>\n",
       "      <th>3</th>\n",
       "      <td>Bangalore Central</td>\n",
       "      <td>https://www.99acres.com/1-bhk-bedroom-independ...</td>\n",
       "      <td>1 Bedroom</td>\n",
       "      <td>1 Bathroom</td>\n",
       "      <td>1 Balcony</td>\n",
       "      <td>NaN</td>\n",
       "      <td>700.0</td>\n",
       "      <td>North-East</td>\n",
       "      <td>Furnished</td>\n",
       "      <td>4.2</td>\n",
       "      <td>...</td>\n",
       "      <td>Dealer on Feb 19, 2025</td>\n",
       "      <td>5 to 10 Year Old</td>\n",
       "      <td>NaN</td>\n",
       "      <td>2 Floors</td>\n",
       "      <td>Immediate</td>\n",
       "      <td>Family , Bachelors (Men Only)</td>\n",
       "      <td>Independent House/Villa for Rent</td>\n",
       "      <td>Rate per sq.ft. ₹ 0 per sq.ft. Brokerage₹ 18,0...</td>\n",
       "      <td>in Vasanth nagar, Bangalore</td>\n",
       "      <td>18,000</td>\n",
       "    </tr>\n",
       "    <tr>\n",
       "      <th>4</th>\n",
       "      <td>Bangalore Central</td>\n",
       "      <td>https://www.99acres.com/3-bhk-bedroom-independ...</td>\n",
       "      <td>3 Bedrooms</td>\n",
       "      <td>3 Bathrooms</td>\n",
       "      <td>2 Balconies</td>\n",
       "      <td>NaN</td>\n",
       "      <td>1509.0</td>\n",
       "      <td>North-East</td>\n",
       "      <td>Semifurnished</td>\n",
       "      <td>4.2</td>\n",
       "      <td>...</td>\n",
       "      <td>Dealer on Feb 19, 2025</td>\n",
       "      <td>5 to 10 Year Old</td>\n",
       "      <td>NaN</td>\n",
       "      <td>2 Floors</td>\n",
       "      <td>Immediate</td>\n",
       "      <td>Family , Bachelors (Men Only)</td>\n",
       "      <td>Independent House/Villa for Rent</td>\n",
       "      <td>Rate per sq.ft. ₹ 0 per sq.ft. Brokerage₹ 40,0...</td>\n",
       "      <td>in Vasanth nagar, Bangalore</td>\n",
       "      <td>40,000</td>\n",
       "    </tr>\n",
       "  </tbody>\n",
       "</table>\n",
       "<p>5 rows × 25 columns</p>\n",
       "</div>"
      ],
      "text/plain": [
       "              Region                                               Link  \\\n",
       "0  Bangalore Central  https://www.99acres.com/2-bhk-bedroom-apartmen...   \n",
       "1  Bangalore Central  https://www.99acres.com/2-bhk-bedroom-independ...   \n",
       "2  Bangalore Central  https://www.99acres.com/2-bhk-bedroom-independ...   \n",
       "3  Bangalore Central  https://www.99acres.com/1-bhk-bedroom-independ...   \n",
       "4  Bangalore Central  https://www.99acres.com/3-bhk-bedroom-independ...   \n",
       "\n",
       "      Bedroom     Bathroom      Balcony Additional_rooms    Area      Facing  \\\n",
       "0  2 Bedrooms  2 Bathrooms    1 Balcony              NaN  1400.0        East   \n",
       "1  2 Bedrooms  2 Bathrooms    1 Balcony       Pooja Room  1300.0        East   \n",
       "2  2 Bedrooms  2 Bathrooms    1 Balcony           Others   900.0        East   \n",
       "3   1 Bedroom   1 Bathroom    1 Balcony              NaN   700.0  North-East   \n",
       "4  3 Bedrooms  3 Bathrooms  2 Balconies              NaN  1509.0  North-East   \n",
       "\n",
       "      Furnishing  Rating  ...        Posted_By_and_On               Age  \\\n",
       "0  Semifurnished     4.3  ...  Dealer on Feb 22, 2025   0 to 1 Year Old   \n",
       "1  Semifurnished     4.3  ...   Owner on Feb 21, 2025      10+ Year Old   \n",
       "2  Semifurnished     4.2  ...  Dealer on Feb 20, 2025   1 to 5 Year Old   \n",
       "3      Furnished     4.2  ...  Dealer on Feb 19, 2025  5 to 10 Year Old   \n",
       "4  Semifurnished     4.2  ...  Dealer on Feb 19, 2025  5 to 10 Year Old   \n",
       "\n",
       "  Pet_friendly              Floor Available_from  \\\n",
       "0          NaN  3rd   of 5 Floors      Immediate   \n",
       "1          NaN  2nd   of 3 Floors      Immediate   \n",
       "2          NaN  3rd   of 4 Floors      Immediate   \n",
       "3          NaN           2 Floors      Immediate   \n",
       "4          NaN           2 Floors      Immediate   \n",
       "\n",
       "                   Available_for                                Type  \\\n",
       "0                            All             Flat/Apartment for Rent   \n",
       "1                    Family Only  Independent/Builder Floor for Rent   \n",
       "2                    Family Only  Independent/Builder Floor for Rent   \n",
       "3  Family , Bachelors (Men Only)    Independent House/Villa for Rent   \n",
       "4  Family , Bachelors (Men Only)    Independent House/Villa for Rent   \n",
       "\n",
       "                                             Advance  \\\n",
       "0  Rate per sq.ft. ₹ 0 per sq.ft. Brokerage₹ 54,0...   \n",
       "1  Rate per sq.ft. ₹ 0 per sq.ft. Deposit10 month...   \n",
       "2                                                NaN   \n",
       "3  Rate per sq.ft. ₹ 0 per sq.ft. Brokerage₹ 18,0...   \n",
       "4  Rate per sq.ft. ₹ 0 per sq.ft. Brokerage₹ 40,0...   \n",
       "\n",
       "                                       Location    Rent  \n",
       "0  in Wellington Park, Richmond Town, Bangalore  54,000  \n",
       "1                   in Wilson Garden, Bangalore  28,000  \n",
       "2               in Victoria Layout, Ashok Nagar  25 Lac  \n",
       "3                   in Vasanth nagar, Bangalore  18,000  \n",
       "4                   in Vasanth nagar, Bangalore  40,000  \n",
       "\n",
       "[5 rows x 25 columns]"
      ]
     },
     "execution_count": 3,
     "metadata": {},
     "output_type": "execute_result"
    }
   ],
   "source": [
    "df.head()"
   ]
  },
  {
   "cell_type": "code",
   "execution_count": 4,
   "id": "0323d5b8-f09a-4005-9033-a37d0114d497",
   "metadata": {},
   "outputs": [],
   "source": [
    "df_copy = df.copy()\n",
    "df_copy = df_copy.dropna(subset=['Rent' , 'Bathroom' , 'Bedroom' , 'Available_for' , 'Furnishing'] , how = 'any').reset_index(drop= True)"
   ]
  },
  {
   "cell_type": "markdown",
   "id": "1337cf71-bd61-443c-9b3b-4232bdca60e4",
   "metadata": {},
   "source": [
    "### Bedroom"
   ]
  },
  {
   "cell_type": "code",
   "execution_count": 5,
   "id": "d1a199a8-5287-4e11-88fb-26f9bc074c3b",
   "metadata": {},
   "outputs": [],
   "source": [
    "df_copy['Bedroom'] = df_copy['Bedroom'].str.findall(r'^\\d+').str.get(0).fillna(0).astype(float)"
   ]
  },
  {
   "cell_type": "code",
   "execution_count": 6,
   "id": "1524b581-c7ec-4e6e-bf8e-8c7fdc860fe7",
   "metadata": {},
   "outputs": [
    {
     "data": {
      "text/plain": [
       "Bedroom\n",
       "2.0     351\n",
       "3.0     281\n",
       "1.0     163\n",
       "4.0      72\n",
       "5.0       4\n",
       "10.0      1\n",
       "Name: count, dtype: int64"
      ]
     },
     "execution_count": 6,
     "metadata": {},
     "output_type": "execute_result"
    }
   ],
   "source": [
    "df_copy['Bedroom'].value_counts()"
   ]
  },
  {
   "cell_type": "code",
   "execution_count": 7,
   "id": "5a758491-d208-41a4-bfae-765b3bc45824",
   "metadata": {},
   "outputs": [],
   "source": [
    "df_copy = df_copy.iloc[np.array(df_copy['Bedroom'] <= 6) , :].reset_index(drop = True)"
   ]
  },
  {
   "cell_type": "markdown",
   "id": "87cdc415-db6b-459a-81e8-73bd587ad7d3",
   "metadata": {},
   "source": [
    "### Bathroom"
   ]
  },
  {
   "cell_type": "code",
   "execution_count": 8,
   "id": "01d8fa9e-e352-4a65-ad33-60a575551eab",
   "metadata": {},
   "outputs": [],
   "source": [
    "df_copy['Bathroom'] = df_copy['Bathroom'].str.findall(r'^\\d+').str.get(0).fillna(0).astype(float)"
   ]
  },
  {
   "cell_type": "code",
   "execution_count": 9,
   "id": "91884902-509f-4e3b-a028-e3852f4eb4c4",
   "metadata": {},
   "outputs": [
    {
     "data": {
      "text/plain": [
       "Bathroom\n",
       "2.0    383\n",
       "3.0    196\n",
       "1.0    190\n",
       "4.0     78\n",
       "5.0     22\n",
       "7.0      1\n",
       "6.0      1\n",
       "Name: count, dtype: int64"
      ]
     },
     "execution_count": 9,
     "metadata": {},
     "output_type": "execute_result"
    }
   ],
   "source": [
    "df_copy['Bathroom'].value_counts()"
   ]
  },
  {
   "cell_type": "code",
   "execution_count": 10,
   "id": "7d38e742-97c8-4ad3-af14-5045b3834570",
   "metadata": {},
   "outputs": [],
   "source": [
    "df_copy = df_copy.iloc[np.array(df_copy['Bathroom'] <= 6) , :].reset_index(drop = True)"
   ]
  },
  {
   "cell_type": "markdown",
   "id": "c4d616ce-edca-4c3f-99d6-d56aeda146df",
   "metadata": {},
   "source": [
    "### Balcony"
   ]
  },
  {
   "cell_type": "code",
   "execution_count": 11,
   "id": "2f431a47-9fd4-4444-a711-fb3874377f54",
   "metadata": {},
   "outputs": [],
   "source": [
    "df_copy['Balcony'] = df_copy['Balcony'].str.findall(r'^\\d+\\+?').str.get(0).fillna('0')"
   ]
  },
  {
   "cell_type": "code",
   "execution_count": 12,
   "id": "331d2247-8342-4584-823b-8fe983b137ed",
   "metadata": {},
   "outputs": [
    {
     "data": {
      "text/plain": [
       "Balcony\n",
       "1     340\n",
       "2     253\n",
       "0     172\n",
       "3      78\n",
       "3+     27\n",
       "Name: count, dtype: int64"
      ]
     },
     "execution_count": 12,
     "metadata": {},
     "output_type": "execute_result"
    }
   ],
   "source": [
    "df_copy['Balcony'].value_counts()"
   ]
  },
  {
   "cell_type": "markdown",
   "id": "08ce92df-09e5-450f-a0b3-2ed688b3b445",
   "metadata": {},
   "source": [
    "### Additional Room"
   ]
  },
  {
   "cell_type": "code",
   "execution_count": 13,
   "id": "49a2738b-3e89-4a72-9abd-8bd707022a8e",
   "metadata": {},
   "outputs": [],
   "source": [
    "df_copy['Additional_rooms'] = df_copy['Additional_rooms'].apply(lambda x: len(x.split(',')) if pd.notna(x) else None).fillna(0)"
   ]
  },
  {
   "cell_type": "code",
   "execution_count": 14,
   "id": "c36de8d1-f469-43a7-90a4-105a991432c4",
   "metadata": {},
   "outputs": [
    {
     "data": {
      "text/plain": [
       "Additional_rooms\n",
       "0.0    499\n",
       "1.0    243\n",
       "2.0     66\n",
       "4.0     31\n",
       "3.0     31\n",
       "Name: count, dtype: int64"
      ]
     },
     "execution_count": 14,
     "metadata": {},
     "output_type": "execute_result"
    }
   ],
   "source": [
    "df_copy['Additional_rooms'].value_counts()"
   ]
  },
  {
   "cell_type": "code",
   "execution_count": 15,
   "id": "2d3a9a9e-b38c-4cf1-af59-098c7566cdf3",
   "metadata": {},
   "outputs": [],
   "source": [
    "df_copy = df_copy.iloc[np.array(df_copy['Additional_rooms'] != 5) , :].reset_index(drop = True)"
   ]
  },
  {
   "cell_type": "markdown",
   "id": "f838c29c-2f98-42e1-8629-136c1302bec6",
   "metadata": {},
   "source": [
    "### Rent"
   ]
  },
  {
   "cell_type": "code",
   "execution_count": 16,
   "id": "e5063cd2-c5cf-4c83-82bb-3712f0e688a5",
   "metadata": {},
   "outputs": [],
   "source": [
    "df_copy = df_copy.iloc[~np.array(df_copy['Rent'] == 'Price on Request') , :].reset_index(drop = True)"
   ]
  },
  {
   "cell_type": "code",
   "execution_count": 17,
   "id": "8ee70b4d-6d16-4c15-8d72-40ceb5082fe1",
   "metadata": {},
   "outputs": [],
   "source": [
    "def Lac(x):\n",
    "    if 'Lac' in x:\n",
    "        return np.round(float(re.search(r'[\\d\\.]+' , x).group()) * 100000 , 1)\n",
    "    else:\n",
    "            return np.round(float(x) , 1)"
   ]
  },
  {
   "cell_type": "code",
   "execution_count": 18,
   "id": "0c2fa0fd-b260-4d7e-9aeb-3b2e1ba468e2",
   "metadata": {},
   "outputs": [],
   "source": [
    "df_copy['Rent'] = df_copy['Rent'].str.split(',').apply(lambda x : ''.join(x)).apply(lambda x : Lac(x))"
   ]
  },
  {
   "cell_type": "code",
   "execution_count": 19,
   "id": "34990a38-8c8a-4eeb-b922-8167fd491737",
   "metadata": {},
   "outputs": [
    {
     "data": {
      "text/plain": [
       "count        868.00\n",
       "mean       77957.46\n",
       "std       247882.16\n",
       "min         4000.00\n",
       "25%        21000.00\n",
       "50%        35600.00\n",
       "75%        60500.00\n",
       "max      3500000.00\n",
       "Name: Rent, dtype: float64"
      ]
     },
     "execution_count": 19,
     "metadata": {},
     "output_type": "execute_result"
    }
   ],
   "source": [
    "df_copy['Rent'].describe().round(2)"
   ]
  },
  {
   "cell_type": "code",
   "execution_count": 20,
   "id": "c3e437f8-a5bd-46e2-9c92-d7187c0ccb24",
   "metadata": {},
   "outputs": [],
   "source": [
    "df_copy = df_copy.loc[df_copy['Rent'] <= 500000 , :].reset_index(drop = True)"
   ]
  },
  {
   "cell_type": "markdown",
   "id": "69adb5fa-0959-471d-9a6c-36de7694b866",
   "metadata": {},
   "source": [
    "### Area (sq.ft)"
   ]
  },
  {
   "cell_type": "code",
   "execution_count": 21,
   "id": "b6e5a844-0818-4e03-af94-050c24ce3453",
   "metadata": {},
   "outputs": [],
   "source": [
    "df_copy.rename(columns= {'Area' : 'Area (sq.ft)'} , inplace=True)"
   ]
  },
  {
   "cell_type": "code",
   "execution_count": 22,
   "id": "99974b18-7a9f-4ab8-a151-d633b90a74c9",
   "metadata": {},
   "outputs": [],
   "source": [
    "df_copy = df_copy.loc[df_copy['Area (sq.ft)'] <= 10000 , :].reset_index(drop = True)"
   ]
  },
  {
   "cell_type": "code",
   "execution_count": 23,
   "id": "98ea1840-ac75-447b-acf3-bcdb0f6e6423",
   "metadata": {},
   "outputs": [
    {
     "data": {
      "text/plain": [
       "count      856.00\n",
       "mean      1460.50\n",
       "std        975.16\n",
       "min         30.00\n",
       "25%        900.00\n",
       "50%       1200.00\n",
       "75%       1767.89\n",
       "max      10000.00\n",
       "Name: Area (sq.ft), dtype: float64"
      ]
     },
     "execution_count": 23,
     "metadata": {},
     "output_type": "execute_result"
    }
   ],
   "source": [
    "df_copy['Area (sq.ft)'].describe().round(2)"
   ]
  },
  {
   "cell_type": "markdown",
   "id": "bf20c6ff-20a2-4c09-b88e-b36346bee51e",
   "metadata": {},
   "source": [
    "### Brokerage"
   ]
  },
  {
   "cell_type": "code",
   "execution_count": 24,
   "id": "eef4e8b4-e421-4c80-8614-5a31111e73ec",
   "metadata": {},
   "outputs": [],
   "source": [
    "df_copy['Brokerage'] = df_copy['Advance'].str.findall(r'Brokerage₹\\s[\\d\\,]+|Brokerage\\d+\\%').str.get(0)"
   ]
  },
  {
   "cell_type": "code",
   "execution_count": 25,
   "id": "1253f17b-1b51-4016-a1a3-8cfe031fb9a6",
   "metadata": {},
   "outputs": [],
   "source": [
    "def Brokerage(x):\n",
    "    try:\n",
    "        if '%' in x['Brokerage']:\n",
    "            return np.round((float(re.search(r'\\d+' , x['Brokerage']).group()) * x['Rent'])/100 , 1)\n",
    "        else:\n",
    "            return np.round(float(''.join(re.search(r'[\\d\\,]+' , x['Brokerage']).group().split(','))) , 1)\n",
    "    except:\n",
    "        return 0"
   ]
  },
  {
   "cell_type": "code",
   "execution_count": 26,
   "id": "111e1b22-9e99-437a-9dbb-f26656e0c9f0",
   "metadata": {},
   "outputs": [],
   "source": [
    "df_copy['Brokerage'] = df_copy.apply(Brokerage , axis=1)"
   ]
  },
  {
   "cell_type": "code",
   "execution_count": 27,
   "id": "d5a74af6-8606-4873-b9d2-2c4d875f02e5",
   "metadata": {},
   "outputs": [
    {
     "data": {
      "text/plain": [
       "count        856.00\n",
       "mean       34637.35\n",
       "std        65043.30\n",
       "min            0.00\n",
       "25%            0.00\n",
       "50%           30.00\n",
       "75%        50000.00\n",
       "max      1050000.00\n",
       "Name: Brokerage, dtype: float64"
      ]
     },
     "execution_count": 27,
     "metadata": {},
     "output_type": "execute_result"
    }
   ],
   "source": [
    "df_copy['Brokerage'].describe().round(2)"
   ]
  },
  {
   "cell_type": "code",
   "execution_count": 28,
   "id": "800a773b-edfd-438b-ac4c-ceeddfb83a39",
   "metadata": {},
   "outputs": [],
   "source": [
    "df_copy = df_copy.loc[df_copy['Brokerage'] <= 1400000 , :].reset_index(drop = True)"
   ]
  },
  {
   "cell_type": "markdown",
   "id": "04ff4184-bdc3-43b9-967f-77edcfc75714",
   "metadata": {},
   "source": [
    "### Deposit"
   ]
  },
  {
   "cell_type": "code",
   "execution_count": 29,
   "id": "22b9f2bf-fba2-4c3a-83f6-981f83936553",
   "metadata": {},
   "outputs": [],
   "source": [
    "df_copy['Deposit'] = df_copy['Advance'].str.findall(r'Deposit₹\\s[\\d\\,]+|Deposit\\d+\\smonths').str.get(0)"
   ]
  },
  {
   "cell_type": "code",
   "execution_count": 30,
   "id": "4f07dc91-b60b-46e7-8536-4d376e19a75a",
   "metadata": {},
   "outputs": [],
   "source": [
    "def Deposit(x):\n",
    "    try:\n",
    "        if 'months' in x['Deposit']:\n",
    "            return np.round((float(re.search(r'\\d+' , x['Deposit']).group()) * x['Rent']) , 1)\n",
    "        else:\n",
    "            return np.round(float(''.join(re.search(r'[\\d\\,]+' , x['Deposit']).group().split(','))) , 1)\n",
    "    except:\n",
    "        return 0"
   ]
  },
  {
   "cell_type": "code",
   "execution_count": 31,
   "id": "af98d804-803d-45cb-96dd-fa7ed4610fd5",
   "metadata": {},
   "outputs": [],
   "source": [
    "df_copy['Deposit'] = df_copy.apply(Deposit , axis=1)"
   ]
  },
  {
   "cell_type": "code",
   "execution_count": 32,
   "id": "92a352c4-ada6-476a-85f7-a6aa9e3958bd",
   "metadata": {},
   "outputs": [
    {
     "data": {
      "text/plain": [
       "count        856.00\n",
       "mean      284972.49\n",
       "std       433779.74\n",
       "min            0.00\n",
       "25%        40000.00\n",
       "50%       150000.00\n",
       "75%       300000.00\n",
       "max      4000000.00\n",
       "Name: Deposit, dtype: float64"
      ]
     },
     "execution_count": 32,
     "metadata": {},
     "output_type": "execute_result"
    }
   ],
   "source": [
    "df_copy['Deposit'].describe().round(2)"
   ]
  },
  {
   "cell_type": "code",
   "execution_count": 33,
   "id": "3263e1d4-9d12-40ff-b75b-b7ec88cfe5f0",
   "metadata": {},
   "outputs": [],
   "source": [
    "df_copy = df_copy.loc[df_copy['Deposit'] <= 5000000 , :].reset_index(drop = True)"
   ]
  },
  {
   "cell_type": "markdown",
   "id": "3152aba5-98f5-44e5-80cd-db1954e5f904",
   "metadata": {},
   "source": [
    "### Maintenance"
   ]
  },
  {
   "cell_type": "code",
   "execution_count": 34,
   "id": "b9723f22-a4b8-474d-8d89-70365c795908",
   "metadata": {},
   "outputs": [],
   "source": [
    "def Maintenance(x):\n",
    "    try: \n",
    "        return np.round(float(''.join(x)) , 1)\n",
    "    except:\n",
    "        return 0"
   ]
  },
  {
   "cell_type": "code",
   "execution_count": 35,
   "id": "13fbe157-3d0f-4a0f-96a0-7e96e63d708c",
   "metadata": {},
   "outputs": [],
   "source": [
    "df_copy['Maintenance'] = df_copy['Advance'].str.findall(r'Maintenance₹\\s[\\d\\,]+').str.get(0).str.findall(r'[\\d\\,]+').str.get(0).str.split(',').apply(Maintenance)"
   ]
  },
  {
   "cell_type": "code",
   "execution_count": 36,
   "id": "88a87597-f4f6-4267-ae77-aab459986969",
   "metadata": {},
   "outputs": [],
   "source": [
    "df_copy = df_copy.iloc[np.array(df_copy['Maintenance'] < df_copy['Rent']) , :].reset_index()"
   ]
  },
  {
   "cell_type": "code",
   "execution_count": 37,
   "id": "802317b7-f734-4c12-8f5f-953eff7c8bdf",
   "metadata": {},
   "outputs": [],
   "source": [
    "df_copy = df_copy.loc[df_copy['Maintenance'] <= 75000 , :].reset_index(drop = True)"
   ]
  },
  {
   "cell_type": "markdown",
   "id": "a7f7a7f9-cace-4d42-8867-ca33e1f0b96b",
   "metadata": {},
   "source": [
    "### Covered Parking"
   ]
  },
  {
   "cell_type": "code",
   "execution_count": 38,
   "id": "882f414e-9a03-4231-a127-65cf5546ea33",
   "metadata": {},
   "outputs": [],
   "source": [
    "df_copy['Covered_Parking'] = df_copy['Parking'].str.findall(r'\\d+\\sCovered').str.get(0).str.findall(r'\\d+').str.get(0).fillna(0).astype('float')"
   ]
  },
  {
   "cell_type": "code",
   "execution_count": 39,
   "id": "8761a01d-218d-43da-b1ea-5e36fbd3f1a0",
   "metadata": {},
   "outputs": [],
   "source": [
    "df_copy = df_copy.loc[df_copy['Covered_Parking'] <= 6 , :].reset_index(drop = True)"
   ]
  },
  {
   "cell_type": "markdown",
   "id": "6592bcf7-2d82-47bc-b6da-a2187ce48bf3",
   "metadata": {},
   "source": [
    "### Age"
   ]
  },
  {
   "cell_type": "code",
   "execution_count": 40,
   "id": "46ea36ce-cff7-4cb0-a1f3-39a56a19f540",
   "metadata": {},
   "outputs": [],
   "source": [
    "def Age(x):\n",
    "    try:\n",
    "        if 'to' in x:\n",
    "            return np.round(float(re.search(r'\\d+' , x).group()))\n",
    "        elif 'Under Construction' == x:\n",
    "            return 0\n",
    "        else:\n",
    "            return x\n",
    "    except:\n",
    "        return None"
   ]
  },
  {
   "cell_type": "code",
   "execution_count": 41,
   "id": "10f63515-b4a1-4783-9b6b-fd797071dab9",
   "metadata": {},
   "outputs": [],
   "source": [
    "df_copy['Age'] = df_copy['Age'].str.findall(r'to\\s\\d+|\\d+\\+|Under\\sConstruction').str.get(0).apply(Age)"
   ]
  },
  {
   "cell_type": "code",
   "execution_count": 42,
   "id": "7bf45ea7-380b-4553-a1a9-6494af362808",
   "metadata": {},
   "outputs": [],
   "source": [
    "df_copy = df_copy.dropna(subset=['Age']).reset_index(drop=True)"
   ]
  },
  {
   "cell_type": "code",
   "execution_count": 43,
   "id": "2b0c622c-d53e-46ff-bad3-b24fe3504634",
   "metadata": {},
   "outputs": [],
   "source": [
    "df_copy.loc[df_copy['Age'] == '10+' , 'Age'] = 11\n",
    "df_copy['Age'] = df_copy['Age'].astype(float)"
   ]
  },
  {
   "cell_type": "code",
   "execution_count": 44,
   "id": "005510da-f026-487a-8a44-18a4f2ddca66",
   "metadata": {},
   "outputs": [],
   "source": [
    "def categorize_age(value):\n",
    "    if pd.isna(value):\n",
    "        return \"Undefined\"\n",
    "    if value == 0:\n",
    "        return \"Under Construction\"\n",
    "    if 1 <= value <= 5:\n",
    "        return \"New Property\"\n",
    "    if 6 <= value <= 10:\n",
    "        return \"Moderately Old\"\n",
    "    if value > 10:\n",
    "        return \"Old Property\"\n",
    "    else:\n",
    "        return \"Undefined\"\n",
    "\n",
    "df_copy['Age'] = df_copy['Age'].apply(categorize_age)"
   ]
  },
  {
   "cell_type": "code",
   "execution_count": 45,
   "id": "c25b5338-0c18-4283-8c86-3832e0433461",
   "metadata": {},
   "outputs": [
    {
     "data": {
      "text/plain": [
       "Age\n",
       "New Property          578\n",
       "Moderately Old        182\n",
       "Old Property           74\n",
       "Under Construction      8\n",
       "Name: count, dtype: int64"
      ]
     },
     "execution_count": 45,
     "metadata": {},
     "output_type": "execute_result"
    }
   ],
   "source": [
    "df_copy['Age'].value_counts()"
   ]
  },
  {
   "cell_type": "markdown",
   "id": "366d49af-9c2c-4c31-995d-c812fdb3d6d9",
   "metadata": {},
   "source": [
    "### Type"
   ]
  },
  {
   "cell_type": "code",
   "execution_count": 46,
   "id": "7720ca43-c730-41e4-9d77-a4371b84ddbf",
   "metadata": {},
   "outputs": [],
   "source": [
    "df_copy['Type'] = df_copy['Type'].replace({\n",
    "    'Flat/Apartment for Rent': 'Apartment',\n",
    "    'Independent House/Villa for Rent': 'House/Villa',\n",
    "    'Independent/Builder Floor for Rent': 'Builder Floor',\n",
    "    'Studio Apartment for Rent': 'Studio',\n",
    "    'Serviced Apartments for Rent': 'Serviced Apartment'\n",
    "})"
   ]
  },
  {
   "cell_type": "markdown",
   "id": "9773148c-91cc-44d0-8609-9738dc37c4bd",
   "metadata": {},
   "source": [
    "### Total Floors"
   ]
  },
  {
   "cell_type": "code",
   "execution_count": 47,
   "id": "15493b63-396c-4d37-9ba0-0c52d891abde",
   "metadata": {},
   "outputs": [],
   "source": [
    "df_copy['Total_Floors'] = df_copy['Floor'].str.findall(r'\\d+\\sFloors').str.get(0).str.findall(r'\\d+').str.get(0).fillna(0).astype(float)"
   ]
  },
  {
   "cell_type": "code",
   "execution_count": 48,
   "id": "48662e4d-d0d5-4a33-bd3a-afc24dfbc983",
   "metadata": {},
   "outputs": [],
   "source": [
    "df_copy = df_copy[~(df_copy['Total_Floors'] == 0)].reset_index(drop=True)"
   ]
  },
  {
   "cell_type": "code",
   "execution_count": 49,
   "id": "046a5bde-b115-4337-96cb-b135aa0b1572",
   "metadata": {},
   "outputs": [],
   "source": [
    "def categorize_floors(floor):\n",
    "    if floor <= 3:\n",
    "        return 'Low-rise'\n",
    "    elif 4 <= floor <= 10:\n",
    "        return 'Mid-rise'\n",
    "    elif 11 <= floor <= 20:\n",
    "        return 'High-rise'\n",
    "    else:\n",
    "        return 'Skyscraper'\n",
    "\n",
    "df_copy['Total_Floors'] = df_copy['Total_Floors'].apply(categorize_floors)"
   ]
  },
  {
   "cell_type": "code",
   "execution_count": 50,
   "id": "8c2d93c2-8185-4315-9971-4203d434d71a",
   "metadata": {},
   "outputs": [
    {
     "data": {
      "text/plain": [
       "Total_Floors\n",
       "Mid-rise      322\n",
       "Low-rise      253\n",
       "High-rise     144\n",
       "Skyscraper    110\n",
       "Name: count, dtype: int64"
      ]
     },
     "execution_count": 50,
     "metadata": {},
     "output_type": "execute_result"
    }
   ],
   "source": [
    "df_copy['Total_Floors'].value_counts()"
   ]
  },
  {
   "cell_type": "code",
   "execution_count": 51,
   "id": "5559efba-c7ba-43a9-bcc6-6324dc70bd78",
   "metadata": {},
   "outputs": [],
   "source": [
    "df_copy = df_copy[['Region', 'Bedroom', 'Bathroom', 'Balcony', 'Additional_rooms', 'Area (sq.ft)', 'Furnishing', 'Age' ,'Covered_Parking', 'Brokerage', 'Deposit', 'Maintenance', 'Type', 'Total_Floors', 'Rent']]"
   ]
  },
  {
   "cell_type": "code",
   "execution_count": 52,
   "id": "c8e27152-ad8e-47b3-a9f4-fa5d6cca1cc9",
   "metadata": {},
   "outputs": [],
   "source": [
    "df_copy = df_copy.drop_duplicates().reset_index(drop = True)"
   ]
  },
  {
   "cell_type": "code",
   "execution_count": 53,
   "id": "8f7d1fbb-37cf-4012-a66e-4f830a5e18db",
   "metadata": {},
   "outputs": [
    {
     "data": {
      "text/plain": [
       "(768, 15)"
      ]
     },
     "execution_count": 53,
     "metadata": {},
     "output_type": "execute_result"
    }
   ],
   "source": [
    "df_copy.shape"
   ]
  },
  {
   "cell_type": "code",
   "execution_count": 54,
   "id": "babe719c-bee7-4a69-8b48-fc3fc1faf272",
   "metadata": {},
   "outputs": [],
   "source": [
    "df_copy.to_excel(\"Cleaned_Bangalore_House_Rent_Test_Data.xlsx\" , index=False)"
   ]
  },
  {
   "cell_type": "markdown",
   "id": "157da152-36e2-4789-827d-f8c871bf5c47",
   "metadata": {},
   "source": [
    "#### Model Prediction"
   ]
  },
  {
   "cell_type": "code",
   "execution_count": 55,
   "id": "492096fd-fa31-40dd-a122-44902ed2e2c0",
   "metadata": {},
   "outputs": [],
   "source": [
    "import pickle\n",
    "with open('House_Rent_Prediction_Pipeline.pkl','rb') as file:\n",
    "    pipeline = pickle.load(file)"
   ]
  },
  {
   "cell_type": "code",
   "execution_count": 56,
   "id": "611d1afb-4ce5-402d-b20a-0723c4ffe829",
   "metadata": {},
   "outputs": [],
   "source": [
    "x = df_copy.drop(columns=['Rent'])\n",
    "y = df_copy['Rent']"
   ]
  },
  {
   "cell_type": "code",
   "execution_count": 57,
   "id": "cd8273f3-4209-45ef-84b0-c671d7d5f09e",
   "metadata": {},
   "outputs": [],
   "source": [
    "y_pred = np.expm1(pipeline.predict(x))"
   ]
  },
  {
   "cell_type": "code",
   "execution_count": 58,
   "id": "b262eaa2-4f5f-4ea2-8d40-49f970bae81a",
   "metadata": {},
   "outputs": [
    {
     "data": {
      "text/plain": [
       "0.7200520833333334"
      ]
     },
     "execution_count": 58,
     "metadata": {},
     "output_type": "execute_result"
    }
   ],
   "source": [
    "total = 0\n",
    "for i in range(y.shape[0]):\n",
    "    if y_pred[i] - 6000 <= y[i] <= y_pred[i] + 6000:\n",
    "        total += 1\n",
    "\n",
    "total / y.shape[0]"
   ]
  },
  {
   "cell_type": "markdown",
   "id": "2a64ecb2-e390-45f0-afd2-03ed20720e9f",
   "metadata": {},
   "source": [
    "#### R2 Score"
   ]
  },
  {
   "cell_type": "code",
   "execution_count": 59,
   "id": "6c11b849-798b-44d5-9807-474d66e3c6e1",
   "metadata": {},
   "outputs": [
    {
     "data": {
      "text/plain": [
       "0.8703656374921901"
      ]
     },
     "execution_count": 59,
     "metadata": {},
     "output_type": "execute_result"
    }
   ],
   "source": [
    "from sklearn.metrics import r2_score\n",
    "\n",
    "r2_score(y , y_pred)"
   ]
  }
 ],
 "metadata": {
  "kernelspec": {
   "display_name": "Python 3 (ipykernel)",
   "language": "python",
   "name": "python3"
  },
  "language_info": {
   "codemirror_mode": {
    "name": "ipython",
    "version": 3
   },
   "file_extension": ".py",
   "mimetype": "text/x-python",
   "name": "python",
   "nbconvert_exporter": "python",
   "pygments_lexer": "ipython3",
   "version": "3.12.4"
  }
 },
 "nbformat": 4,
 "nbformat_minor": 5
}
