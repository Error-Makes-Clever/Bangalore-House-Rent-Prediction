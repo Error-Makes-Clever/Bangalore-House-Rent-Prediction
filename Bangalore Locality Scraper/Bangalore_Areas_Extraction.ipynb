{
 "cells": [
  {
   "cell_type": "markdown",
   "id": "79bea93b-486d-45fe-86bf-aaca6d2e46bd",
   "metadata": {},
   "source": [
    "### Description:\n",
    "This script scrapes locality names from the CommonFloor Bangalore city groups page. \n",
    "It extracts area names, cleans the data by removing duplicates and irrelevant entries, \n",
    "and saves the final list to an Excel file.\n",
    "\n",
    "### Key functionalities:\n",
    "- Sends an HTTP request to the CommonFloor Bangalore city groups page.\n",
    "- Parses the page using BeautifulSoup to extract area names.\n",
    "- Cleans the data by removing duplicates and unwanted entries.\n",
    "- Sorts the area names alphabetically.\n",
    "- Saves the final list of areas to an Excel file."
   ]
  },
  {
   "cell_type": "code",
   "execution_count": 1,
   "id": "e16a028d-a75c-45ce-935d-3c09914074fe",
   "metadata": {},
   "outputs": [],
   "source": [
    "import requests\n",
    "import pandas as pd\n",
    "import numpy as np\n",
    "from bs4 import BeautifulSoup\n",
    "\n",
    "url = \"https://groups.commonfloor.com/bangalore-city\"\n",
    "\n",
    "response = requests.get(url)\n",
    "soup = BeautifulSoup(response.text, \"lxml\")"
   ]
  },
  {
   "cell_type": "code",
   "execution_count": 2,
   "id": "6ea0a8e3-51f3-476a-a6a6-8c37214f0337",
   "metadata": {},
   "outputs": [],
   "source": [
    "Areas_in_Bangalore = soup.find_all('a' , target = '_blank' , class_ =\"cf-tracking-enabled\")\n",
    "\n",
    "for i in range(len(Areas_in_Bangalore)):\n",
    "    Areas_in_Bangalore[i] = Areas_in_Bangalore[i].text.strip()"
   ]
  },
  {
   "cell_type": "code",
   "execution_count": 3,
   "id": "da7c692f-e030-4000-b031-0b8a1241181a",
   "metadata": {},
   "outputs": [],
   "source": [
    "Areas = pd.DataFrame({'Areas' : Areas_in_Bangalore}).drop_duplicates().reset_index(drop=True)"
   ]
  },
  {
   "cell_type": "code",
   "execution_count": 4,
   "id": "a49385c5-03b2-43aa-a555-caf02f2f69f5",
   "metadata": {},
   "outputs": [],
   "source": [
    "Areas = Areas[~Areas['Areas'].isin(['Pura', 'Alur', 'Palya', 'Karnataka Layout', 'Careers', '' , '100 Feet Road-Koramangala' , 'Electronic City Phase I' , 'Electronic City Phase II'])].sort_values(by = 'Areas').reset_index(drop=True)"
   ]
  },
  {
   "cell_type": "code",
   "execution_count": 5,
   "id": "7c974c52-1162-413e-896f-a16de74fa00f",
   "metadata": {},
   "outputs": [
    {
     "data": {
      "text/html": [
       "<div>\n",
       "<style scoped>\n",
       "    .dataframe tbody tr th:only-of-type {\n",
       "        vertical-align: middle;\n",
       "    }\n",
       "\n",
       "    .dataframe tbody tr th {\n",
       "        vertical-align: top;\n",
       "    }\n",
       "\n",
       "    .dataframe thead th {\n",
       "        text-align: right;\n",
       "    }\n",
       "</style>\n",
       "<table border=\"1\" class=\"dataframe\">\n",
       "  <thead>\n",
       "    <tr style=\"text-align: right;\">\n",
       "      <th></th>\n",
       "      <th>Areas</th>\n",
       "    </tr>\n",
       "  </thead>\n",
       "  <tbody>\n",
       "    <tr>\n",
       "      <th>0</th>\n",
       "      <td>A Dasarahalli</td>\n",
       "    </tr>\n",
       "    <tr>\n",
       "      <th>1</th>\n",
       "      <td>A Narayanapura</td>\n",
       "    </tr>\n",
       "    <tr>\n",
       "      <th>2</th>\n",
       "      <td>ACL Layout</td>\n",
       "    </tr>\n",
       "    <tr>\n",
       "      <th>3</th>\n",
       "      <td>AECS Layout</td>\n",
       "    </tr>\n",
       "    <tr>\n",
       "      <th>4</th>\n",
       "      <td>AECS Layout - A Block</td>\n",
       "    </tr>\n",
       "    <tr>\n",
       "      <th>...</th>\n",
       "      <td>...</td>\n",
       "    </tr>\n",
       "    <tr>\n",
       "      <th>1486</th>\n",
       "      <td>Yerthiganahalli</td>\n",
       "    </tr>\n",
       "    <tr>\n",
       "      <th>1487</th>\n",
       "      <td>Yeshwanthpur</td>\n",
       "    </tr>\n",
       "    <tr>\n",
       "      <th>1488</th>\n",
       "      <td>Yettakodi</td>\n",
       "    </tr>\n",
       "    <tr>\n",
       "      <th>1489</th>\n",
       "      <td>kaikondrahalli</td>\n",
       "    </tr>\n",
       "    <tr>\n",
       "      <th>1490</th>\n",
       "      <td>lal bagh</td>\n",
       "    </tr>\n",
       "  </tbody>\n",
       "</table>\n",
       "<p>1491 rows × 1 columns</p>\n",
       "</div>"
      ],
      "text/plain": [
       "                      Areas\n",
       "0             A Dasarahalli\n",
       "1            A Narayanapura\n",
       "2                ACL Layout\n",
       "3               AECS Layout\n",
       "4     AECS Layout - A Block\n",
       "...                     ...\n",
       "1486        Yerthiganahalli\n",
       "1487           Yeshwanthpur\n",
       "1488              Yettakodi\n",
       "1489         kaikondrahalli\n",
       "1490               lal bagh\n",
       "\n",
       "[1491 rows x 1 columns]"
      ]
     },
     "execution_count": 5,
     "metadata": {},
     "output_type": "execute_result"
    }
   ],
   "source": [
    "Areas"
   ]
  },
  {
   "cell_type": "code",
   "execution_count": 6,
   "id": "65536bfa-1cd3-4f7e-a9cc-24efd9338323",
   "metadata": {},
   "outputs": [],
   "source": [
    "Areas.to_excel('Areas_in_Bangalore_City.xlsx' , index=False)"
   ]
  }
 ],
 "metadata": {
  "kernelspec": {
   "display_name": "Python 3 (ipykernel)",
   "language": "python",
   "name": "python3"
  },
  "language_info": {
   "codemirror_mode": {
    "name": "ipython",
    "version": 3
   },
   "file_extension": ".py",
   "mimetype": "text/x-python",
   "name": "python",
   "nbconvert_exporter": "python",
   "pygments_lexer": "ipython3",
   "version": "3.12.4"
  }
 },
 "nbformat": 4,
 "nbformat_minor": 5
}
